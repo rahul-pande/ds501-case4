{
 "cells": [
  {
   "cell_type": "code",
   "execution_count": 1,
   "metadata": {},
   "outputs": [],
   "source": [
    "import os\n",
    "import gmaps\n",
    "import gmaps.datasets\n",
    "import pandas as pd\n",
    "import seaborn as sns\n",
    "import numpy as np\n",
    "from time import sleep"
   ]
  },
  {
   "cell_type": "code",
   "execution_count": 2,
   "metadata": {},
   "outputs": [],
   "source": [
    "import warnings\n",
    "warnings.filterwarnings(action='ignore')"
   ]
  },
  {
   "cell_type": "code",
   "execution_count": 3,
   "metadata": {
    "scrolled": false
   },
   "outputs": [
    {
     "name": "stdout",
     "output_type": "stream",
     "text": [
      "Populating the interactive namespace from numpy and matplotlib\n"
     ]
    }
   ],
   "source": [
    "%pylab inline\n",
    "\n",
    "# See the https://jupyter-gmaps.readthedocs.io/en/latest/install.html for installation\n",
    "# set GOOGLE_API_KEY in your environment\n",
    "gmaps.configure(api_key=os.environ[\"GOOGLE_API_KEY\"])"
   ]
  },
  {
   "cell_type": "markdown",
   "metadata": {},
   "source": [
    "### Loading Data"
   ]
  },
  {
   "cell_type": "code",
   "execution_count": 4,
   "metadata": {},
   "outputs": [],
   "source": [
    "date_cols = ['pickup_datetime', 'dropoff_datetime',]\n",
    "ride_data = pd.read_csv('ride_data.csv', parse_dates=date_cols)"
   ]
  },
  {
   "cell_type": "code",
   "execution_count": 5,
   "metadata": {},
   "outputs": [],
   "source": [
    "pickup_locations = ride_data[['pickup_latitude', 'pickup_longitude']]\n",
    "locations = pickup_locations.sample(frac=0.1).values"
   ]
  },
  {
   "cell_type": "code",
   "execution_count": 6,
   "metadata": {},
   "outputs": [
    {
     "data": {
      "application/vnd.jupyter.widget-view+json": {
       "model_id": "e191386d8117417ab2ae2d12b24c951b",
       "version_major": 2,
       "version_minor": 0
      },
      "text/plain": [
       "Figure(layout=FigureLayout(height='420px'))"
      ]
     },
     "metadata": {},
     "output_type": "display_data"
    }
   ],
   "source": [
    "fig = gmaps.figure()\n",
    "fig.add_layer(gmaps.heatmap_layer(locations))\n",
    "fig"
   ]
  },
  {
   "cell_type": "code",
   "execution_count": 7,
   "metadata": {},
   "outputs": [
    {
     "data": {
      "text/plain": [
       "Index(['id', 'vendor_id', 'pickup_datetime', 'dropoff_datetime',\n",
       "       'passenger_count', 'pickup_longitude', 'pickup_latitude',\n",
       "       'dropoff_longitude', 'dropoff_latitude', 'store_and_fwd_flag',\n",
       "       'trip_duration'],\n",
       "      dtype='object')"
      ]
     },
     "execution_count": 7,
     "metadata": {},
     "output_type": "execute_result"
    }
   ],
   "source": [
    "ride_data.columns"
   ]
  },
  {
   "cell_type": "code",
   "execution_count": 8,
   "metadata": {},
   "outputs": [
    {
     "data": {
      "text/plain": [
       "<matplotlib.axes._subplots.AxesSubplot at 0x13ac89780>"
      ]
     },
     "execution_count": 8,
     "metadata": {},
     "output_type": "execute_result"
    },
    {
     "data": {
      "image/png": "[encoded data removed]",
      "text/plain": [
       "<Figure size 432x288 with 1 Axes>"
      ]
     },
     "metadata": {
      "needs_background": "light"
     },
     "output_type": "display_data"
    }
   ],
   "source": [
    "sns.distplot(ride_data['trip_duration'])"
   ]
  },
  {
   "cell_type": "code",
   "execution_count": 9,
   "metadata": {},
   "outputs": [],
   "source": [
    "pickup_params = ['pickup_longitude', 'pickup_latitude']\n",
    "dropoff_params = ['dropoff_longitude', 'dropoff_latitude']\n",
    "\n",
    "carpool_columns = ['trip_duration', 'pickup_datetime', 'passenger_count'] + pickup_params + dropoff_params\n",
    "\n",
    "carpool_data = ride_data[carpool_columns].sample(frac=0.2, random_state=501)\n",
    "\n",
    "\n",
    "duration_cut = np.quantile(carpool_data['trip_duration'], q=0.8, axis=0)\n",
    "\n",
    "carpool_data = carpool_data[(carpool_data['trip_duration'] >= duration_cut) & (carpool_data['passenger_count'] == 1)]"
   ]
  },
  {
   "cell_type": "code",
   "execution_count": 10,
   "metadata": {},
   "outputs": [],
   "source": [
    "def round_datetime(tm, round_minutes = 30):\n",
    "    discard = datetime.timedelta(minutes=tm.minute % round_minutes,\n",
    "                             seconds=tm.second,\n",
    "                             microseconds=tm.microsecond)\n",
    "    tm -= discard\n",
    "    if discard >= datetime.timedelta(minutes=round_minutes/2):\n",
    "        tm += datetime.timedelta(minutes=round_minutes)\n",
    "    return tm"
   ]
  },
  {
   "cell_type": "code",
   "execution_count": 11,
   "metadata": {},
   "outputs": [],
   "source": [
    "def datetime_to_numeric(tm):\n",
    "    return(tm.hour * 60 + tm.minute)\n",
    "\n",
    "def datetime_to_time(tm):\n",
    "    return('{}:{}'.format(tm.hour, tm.minute))"
   ]
  },
  {
   "cell_type": "code",
   "execution_count": 12,
   "metadata": {},
   "outputs": [],
   "source": [
    "carpool_data['pickup_time_slot'] = carpool_data.pickup_datetime.apply(lambda x: datetime_to_time(round_datetime(x)))"
   ]
  },
  {
   "cell_type": "code",
   "execution_count": 13,
   "metadata": {},
   "outputs": [
    {
     "data": {
      "text/html": [
       "<div>\n",
       "<style scoped>\n",
       "    .dataframe tbody tr th:only-of-type {\n",
       "        vertical-align: middle;\n",
       "    }\n",
       "\n",
       "    .dataframe tbody tr th {\n",
       "        vertical-align: top;\n",
       "    }\n",
       "\n",
       "    .dataframe thead th {\n",
       "        text-align: right;\n",
       "    }\n",
       "</style>\n",
       "<table border=\"1\" class=\"dataframe\">\n",
       "  <thead>\n",
       "    <tr style=\"text-align: right;\">\n",
       "      <th></th>\n",
       "      <th>trip_duration</th>\n",
       "      <th>pickup_datetime</th>\n",
       "      <th>passenger_count</th>\n",
       "      <th>pickup_longitude</th>\n",
       "      <th>pickup_latitude</th>\n",
       "      <th>dropoff_longitude</th>\n",
       "      <th>dropoff_latitude</th>\n",
       "      <th>pickup_time_slot</th>\n",
       "    </tr>\n",
       "  </thead>\n",
       "  <tbody>\n",
       "    <tr>\n",
       "      <th>1000460</th>\n",
       "      <td>1523</td>\n",
       "      <td>2016-06-03 19:39:14</td>\n",
       "      <td>1</td>\n",
       "      <td>-73.972466</td>\n",
       "      <td>40.756702</td>\n",
       "      <td>-73.984596</td>\n",
       "      <td>40.692001</td>\n",
       "      <td>19:30</td>\n",
       "    </tr>\n",
       "    <tr>\n",
       "      <th>17142</th>\n",
       "      <td>1441</td>\n",
       "      <td>2016-05-05 09:21:24</td>\n",
       "      <td>1</td>\n",
       "      <td>-73.968826</td>\n",
       "      <td>40.764603</td>\n",
       "      <td>-73.984962</td>\n",
       "      <td>40.750675</td>\n",
       "      <td>9:30</td>\n",
       "    </tr>\n",
       "    <tr>\n",
       "      <th>252614</th>\n",
       "      <td>1274</td>\n",
       "      <td>2016-05-24 08:51:36</td>\n",
       "      <td>1</td>\n",
       "      <td>-73.982338</td>\n",
       "      <td>40.768417</td>\n",
       "      <td>-73.981750</td>\n",
       "      <td>40.755737</td>\n",
       "      <td>9:0</td>\n",
       "    </tr>\n",
       "    <tr>\n",
       "      <th>234168</th>\n",
       "      <td>1263</td>\n",
       "      <td>2016-02-24 13:30:51</td>\n",
       "      <td>1</td>\n",
       "      <td>-74.003250</td>\n",
       "      <td>40.739037</td>\n",
       "      <td>-73.983727</td>\n",
       "      <td>40.762859</td>\n",
       "      <td>13:30</td>\n",
       "    </tr>\n",
       "    <tr>\n",
       "      <th>1440940</th>\n",
       "      <td>1232</td>\n",
       "      <td>2016-05-27 23:55:19</td>\n",
       "      <td>1</td>\n",
       "      <td>-73.987312</td>\n",
       "      <td>40.756779</td>\n",
       "      <td>-73.882553</td>\n",
       "      <td>40.737171</td>\n",
       "      <td>0:0</td>\n",
       "    </tr>\n",
       "  </tbody>\n",
       "</table>\n",
       "</div>"
      ],
      "text/plain": [
       "         trip_duration     pickup_datetime  passenger_count  pickup_longitude  \\\n",
       "1000460           1523 2016-06-03 19:39:14                1        -73.972466   \n",
       "17142             1441 2016-05-05 09:21:24                1        -73.968826   \n",
       "252614            1274 2016-05-24 08:51:36                1        -73.982338   \n",
       "234168            1263 2016-02-24 13:30:51                1        -74.003250   \n",
       "1440940           1232 2016-05-27 23:55:19                1        -73.987312   \n",
       "\n",
       "         pickup_latitude  dropoff_longitude  dropoff_latitude pickup_time_slot  \n",
       "1000460        40.756702         -73.984596         40.692001            19:30  \n",
       "17142          40.764603         -73.984962         40.750675             9:30  \n",
       "252614         40.768417         -73.981750         40.755737              9:0  \n",
       "234168         40.739037         -73.983727         40.762859            13:30  \n",
       "1440940        40.756779         -73.882553         40.737171              0:0  "
      ]
     },
     "execution_count": 13,
     "metadata": {},
     "output_type": "execute_result"
    }
   ],
   "source": [
    "carpool_data.head()"
   ]
  },
  {
   "cell_type": "code",
   "execution_count": 14,
   "metadata": {},
   "outputs": [
    {
     "data": {
      "text/plain": [
       "[('18:0', 1345),\n",
       " ('18:30', 1327),\n",
       " ('14:30', 1299),\n",
       " ('15:0', 1241),\n",
       " ('15:30', 1206),\n",
       " ('17:30', 1198),\n",
       " ('19:0', 1152),\n",
       " ('12:30', 1149),\n",
       " ('13:30', 1144),\n",
       " ('14:0', 1136)]"
      ]
     },
     "execution_count": 14,
     "metadata": {},
     "output_type": "execute_result"
    }
   ],
   "source": [
    "from collections import Counter\n",
    "Counter(carpool_data.pickup_time_slot).most_common(10)"
   ]
  },
  {
   "cell_type": "code",
   "execution_count": 15,
   "metadata": {},
   "outputs": [],
   "source": [
    "from sklearn.cluster import DBSCAN"
   ]
  },
  {
   "cell_type": "code",
   "execution_count": 16,
   "metadata": {},
   "outputs": [],
   "source": [
    "# 1 unit distance in lat long corresponds to 111km in metric units\n",
    "# We keep 300 m as the maximum walking distance\n",
    "\n",
    "max_pickup_distance = 0.1 * 1/ 111\n",
    "max_dropoff_distance = 5 * max_pickup_distance\n",
    "\n",
    "\n",
    "pickup_dbscan = DBSCAN(\n",
    "    eps = max_pickup_distance,\n",
    "    min_samples = 2,\n",
    "    metric = 'l1'\n",
    ")\n",
    "dropoff_dbscan = DBSCAN(\n",
    "    eps = max_dropoff_distance,\n",
    "    min_samples = 2,\n",
    "    metric = 'l1'\n",
    ")"
   ]
  },
  {
   "cell_type": "code",
   "execution_count": 17,
   "metadata": {},
   "outputs": [],
   "source": [
    "considered_time_slots = ['3:0', '9:0', '12:0', '15:0', '19:0',]\n",
    "considered_time_colors = ['black', 'blue', 'green', 'yellow' , 'red']"
   ]
  },
  {
   "cell_type": "code",
   "execution_count": 18,
   "metadata": {},
   "outputs": [],
   "source": [
    "timewise_cluster_data = []\n",
    "\n",
    "\n",
    "for time_slot in considered_time_slots:\n",
    "\n",
    "    subset_slot_data = carpool_data[(carpool_data.pickup_time_slot == time_slot)]\n",
    "    X_pickup = subset_slot_data[pickup_params]\n",
    "    dropoff_data = subset_slot_data[dropoff_params]\n",
    "\n",
    "    subset_slot_data['pickup_cluster'] = pickup_dbscan.fit_predict(X_pickup)\n",
    "\n",
    "    subset_slot_data['subset_cluster'] = -2\n",
    "\n",
    "    for i in set(subset_slot_data.pickup_cluster):\n",
    "        indices = subset_slot_data.pickup_cluster == i\n",
    "        X_dropoff = dropoff_data[indices]\n",
    "        subset_slot_data.loc[indices, 'subset_cluster'] = dropoff_dbscan.fit_predict(X_dropoff)\n",
    "        \n",
    "    timewise_cluster_data.append(subset_slot_data)"
   ]
  },
  {
   "cell_type": "code",
   "execution_count": 19,
   "metadata": {},
   "outputs": [],
   "source": [
    "all_cluster_data = pd.concat(timewise_cluster_data)"
   ]
  },
  {
   "cell_type": "code",
   "execution_count": 20,
   "metadata": {},
   "outputs": [],
   "source": [
    "all_cluster_data = all_cluster_data[~ ((all_cluster_data.pickup_cluster == -1) | (all_cluster_data.subset_cluster == -1))]"
   ]
  },
  {
   "cell_type": "code",
   "execution_count": 21,
   "metadata": {
    "scrolled": true
   },
   "outputs": [
    {
     "data": {
      "text/html": [
       "<div>\n",
       "<style scoped>\n",
       "    .dataframe tbody tr th:only-of-type {\n",
       "        vertical-align: middle;\n",
       "    }\n",
       "\n",
       "    .dataframe tbody tr th {\n",
       "        vertical-align: top;\n",
       "    }\n",
       "\n",
       "    .dataframe thead th {\n",
       "        text-align: right;\n",
       "    }\n",
       "</style>\n",
       "<table border=\"1\" class=\"dataframe\">\n",
       "  <thead>\n",
       "    <tr style=\"text-align: right;\">\n",
       "      <th></th>\n",
       "      <th>index</th>\n",
       "      <th>pickup_time_slot</th>\n",
       "      <th>pickup_cluster</th>\n",
       "      <th>subset_cluster</th>\n",
       "      <th>pickup_latitude</th>\n",
       "      <th>pickup_longitude</th>\n",
       "      <th>dropoff_latitude</th>\n",
       "      <th>dropoff_longitude</th>\n",
       "      <th>passenger_count</th>\n",
       "    </tr>\n",
       "  </thead>\n",
       "  <tbody>\n",
       "    <tr>\n",
       "      <th>0</th>\n",
       "      <td>21</td>\n",
       "      <td>12:0</td>\n",
       "      <td>34</td>\n",
       "      <td>1</td>\n",
       "      <td>40.769608</td>\n",
       "      <td>-73.863442</td>\n",
       "      <td>40.755707</td>\n",
       "      <td>-73.973674</td>\n",
       "      <td>14</td>\n",
       "    </tr>\n",
       "    <tr>\n",
       "      <th>1</th>\n",
       "      <td>109</td>\n",
       "      <td>9:0</td>\n",
       "      <td>7</td>\n",
       "      <td>0</td>\n",
       "      <td>40.769350</td>\n",
       "      <td>-73.863179</td>\n",
       "      <td>40.755700</td>\n",
       "      <td>-73.973151</td>\n",
       "      <td>11</td>\n",
       "    </tr>\n",
       "    <tr>\n",
       "      <th>2</th>\n",
       "      <td>20</td>\n",
       "      <td>12:0</td>\n",
       "      <td>34</td>\n",
       "      <td>0</td>\n",
       "      <td>40.769415</td>\n",
       "      <td>-73.863291</td>\n",
       "      <td>40.762265</td>\n",
       "      <td>-73.981054</td>\n",
       "      <td>8</td>\n",
       "    </tr>\n",
       "    <tr>\n",
       "      <th>3</th>\n",
       "      <td>49</td>\n",
       "      <td>15:0</td>\n",
       "      <td>18</td>\n",
       "      <td>3</td>\n",
       "      <td>40.773939</td>\n",
       "      <td>-73.871904</td>\n",
       "      <td>40.750731</td>\n",
       "      <td>-73.977098</td>\n",
       "      <td>7</td>\n",
       "    </tr>\n",
       "    <tr>\n",
       "      <th>4</th>\n",
       "      <td>47</td>\n",
       "      <td>15:0</td>\n",
       "      <td>18</td>\n",
       "      <td>1</td>\n",
       "      <td>40.773873</td>\n",
       "      <td>-73.871693</td>\n",
       "      <td>40.756812</td>\n",
       "      <td>-73.985640</td>\n",
       "      <td>7</td>\n",
       "    </tr>\n",
       "    <tr>\n",
       "      <th>5</th>\n",
       "      <td>73</td>\n",
       "      <td>19:0</td>\n",
       "      <td>4</td>\n",
       "      <td>2</td>\n",
       "      <td>40.769474</td>\n",
       "      <td>-73.863139</td>\n",
       "      <td>40.764067</td>\n",
       "      <td>-73.979041</td>\n",
       "      <td>5</td>\n",
       "    </tr>\n",
       "    <tr>\n",
       "      <th>6</th>\n",
       "      <td>2</td>\n",
       "      <td>12:0</td>\n",
       "      <td>2</td>\n",
       "      <td>2</td>\n",
       "      <td>40.774084</td>\n",
       "      <td>-73.873116</td>\n",
       "      <td>40.762310</td>\n",
       "      <td>-73.979549</td>\n",
       "      <td>5</td>\n",
       "    </tr>\n",
       "    <tr>\n",
       "      <th>7</th>\n",
       "      <td>127</td>\n",
       "      <td>9:0</td>\n",
       "      <td>91</td>\n",
       "      <td>0</td>\n",
       "      <td>40.716009</td>\n",
       "      <td>-74.007114</td>\n",
       "      <td>40.757530</td>\n",
       "      <td>-73.967485</td>\n",
       "      <td>5</td>\n",
       "    </tr>\n",
       "    <tr>\n",
       "      <th>8</th>\n",
       "      <td>122</td>\n",
       "      <td>9:0</td>\n",
       "      <td>38</td>\n",
       "      <td>0</td>\n",
       "      <td>40.773808</td>\n",
       "      <td>-73.871023</td>\n",
       "      <td>40.756228</td>\n",
       "      <td>-73.973108</td>\n",
       "      <td>4</td>\n",
       "    </tr>\n",
       "    <tr>\n",
       "      <th>9</th>\n",
       "      <td>84</td>\n",
       "      <td>19:0</td>\n",
       "      <td>13</td>\n",
       "      <td>0</td>\n",
       "      <td>40.774111</td>\n",
       "      <td>-73.873379</td>\n",
       "      <td>40.759954</td>\n",
       "      <td>-73.987572</td>\n",
       "      <td>4</td>\n",
       "    </tr>\n",
       "  </tbody>\n",
       "</table>\n",
       "</div>"
      ],
      "text/plain": [
       "   index pickup_time_slot  pickup_cluster  subset_cluster  pickup_latitude  \\\n",
       "0     21             12:0              34               1        40.769608   \n",
       "1    109              9:0               7               0        40.769350   \n",
       "2     20             12:0              34               0        40.769415   \n",
       "3     49             15:0              18               3        40.773939   \n",
       "4     47             15:0              18               1        40.773873   \n",
       "5     73             19:0               4               2        40.769474   \n",
       "6      2             12:0               2               2        40.774084   \n",
       "7    127              9:0              91               0        40.716009   \n",
       "8    122              9:0              38               0        40.773808   \n",
       "9     84             19:0              13               0        40.774111   \n",
       "\n",
       "   pickup_longitude  dropoff_latitude  dropoff_longitude  passenger_count  \n",
       "0        -73.863442         40.755707         -73.973674               14  \n",
       "1        -73.863179         40.755700         -73.973151               11  \n",
       "2        -73.863291         40.762265         -73.981054                8  \n",
       "3        -73.871904         40.750731         -73.977098                7  \n",
       "4        -73.871693         40.756812         -73.985640                7  \n",
       "5        -73.863139         40.764067         -73.979041                5  \n",
       "6        -73.873116         40.762310         -73.979549                5  \n",
       "7        -74.007114         40.757530         -73.967485                5  \n",
       "8        -73.871023         40.756228         -73.973108                4  \n",
       "9        -73.873379         40.759954         -73.987572                4  "
      ]
     },
     "execution_count": 21,
     "metadata": {},
     "output_type": "execute_result"
    }
   ],
   "source": [
    "n_clusters = 3\n",
    "aggregated_cluster_data = all_cluster_data.groupby(['pickup_time_slot', 'pickup_cluster', 'subset_cluster']).agg({\n",
    "    'pickup_latitude':np.mean,\n",
    "    'pickup_longitude':np.mean,\n",
    "    'dropoff_latitude':np.mean,\n",
    "    'dropoff_longitude':np.mean,\n",
    "    'passenger_count' :sum,\n",
    "}).reset_index().sort_values('passenger_count', ascending=False).groupby(['pickup_time_slot',]).head(n_clusters)\n",
    "\n",
    "aggregated_cluster_data.head(10).reset_index()"
   ]
  },
  {
   "cell_type": "code",
   "execution_count": 22,
   "metadata": {},
   "outputs": [
    {
     "data": {
      "text/plain": [
       "{'3:0': 'black',\n",
       " '9:0': 'blue',\n",
       " '12:0': 'green',\n",
       " '15:0': 'yellow',\n",
       " '19:0': 'red'}"
      ]
     },
     "execution_count": 22,
     "metadata": {},
     "output_type": "execute_result"
    }
   ],
   "source": [
    "color_dict = {x:y for x, y in zip(considered_time_slots, considered_time_colors)}\n",
    "color_dict"
   ]
  },
  {
   "cell_type": "code",
   "execution_count": 23,
   "metadata": {
    "scrolled": false
   },
   "outputs": [
    {
     "data": {
      "application/vnd.jupyter.widget-view+json": {
       "model_id": "5a72c28b477a4102a37d8954da2dd04d",
       "version_major": 2,
       "version_minor": 0
      },
      "text/plain": [
       "Figure(layout=FigureLayout(height='420px'))"
      ]
     },
     "metadata": {},
     "output_type": "display_data"
    }
   ],
   "source": [
    "fig = gmaps.figure()\n",
    "\n",
    "for i in aggregated_cluster_data.itertuples():\n",
    "    pickup_point = (i.pickup_latitude, i.pickup_longitude)\n",
    "    dropoff_point = (i.dropoff_latitude, i.dropoff_longitude)\n",
    "    fig.add_layer(gmaps.directions_layer(\n",
    "        pickup_point,\n",
    "        dropoff_point,\n",
    "        stroke_color = color_dict[i.pickup_time_slot],\n",
    "        show_markers=False,\n",
    "        )\n",
    "    )\n",
    "    sleep(2)\n",
    "\n",
    "fig"
   ]
  },
  {
   "cell_type": "code",
   "execution_count": 24,
   "metadata": {},
   "outputs": [
    {
     "data": {
      "text/plain": [
       "{'3:0': 'black',\n",
       " '9:0': 'blue',\n",
       " '12:0': 'green',\n",
       " '15:0': 'yellow',\n",
       " '19:0': 'red'}"
      ]
     },
     "execution_count": 24,
     "metadata": {},
     "output_type": "execute_result"
    }
   ],
   "source": [
    "color_dict"
   ]
  },
  {
   "cell_type": "code",
   "execution_count": null,
   "metadata": {},
   "outputs": [],
   "source": []
  },
  {
   "cell_type": "code",
   "execution_count": null,
   "metadata": {},
   "outputs": [],
   "source": []
  }
 ],
 "metadata": {
  "kernelspec": {
   "display_name": "Python 3",
   "language": "python",
   "name": "python3"
  },
  "language_info": {
   "codemirror_mode": {
    "name": "ipython",
    "version": 3
   },
   "file_extension": ".py",
   "mimetype": "text/x-python",
   "name": "python",
   "nbconvert_exporter": "python",
   "pygments_lexer": "ipython3",
   "version": "3.7.0"
  }
 },
 "nbformat": 4,
 "nbformat_minor": 2
}
