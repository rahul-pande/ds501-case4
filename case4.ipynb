{
 "cells": [
  {
   "cell_type": "code",
   "execution_count": 1,
   "metadata": {},
   "outputs": [],
   "source": [
    "import os\n",
    "import gmaps\n",
    "import gmaps.datasets\n",
    "import pandas as pd\n",
    "import seaborn as sns"
   ]
  },
  {
   "cell_type": "code",
   "execution_count": 2,
   "metadata": {},
   "outputs": [],
   "source": [
    "import warnings\n",
    "warnings.filterwarnings(action='ignore')"
   ]
  },
  {
   "cell_type": "code",
   "execution_count": 3,
   "metadata": {
    "scrolled": false
   },
   "outputs": [
    {
     "name": "stdout",
     "output_type": "stream",
     "text": [
      "Populating the interactive namespace from numpy and matplotlib\n"
     ]
    }
   ],
   "source": [
    "%pylab inline\n",
    "\n",
    "# See the https://jupyter-gmaps.readthedocs.io/en/latest/install.html for installation\n",
    "# set GOOGLE_API_KEY in your environment\n",
    "gmaps.configure(api_key=os.environ[\"GOOGLE_API_KEY\"])"
   ]
  },
  {
   "cell_type": "markdown",
   "metadata": {},
   "source": [
    "### Loading Data"
   ]
  },
  {
   "cell_type": "code",
   "execution_count": 4,
   "metadata": {},
   "outputs": [],
   "source": [
    "date_cols = ['pickup_datetime', 'dropoff_datetime',]\n",
    "ride_data = pd.read_csv('ride_data.csv', parse_dates=date_cols)"
   ]
  },
  {
   "cell_type": "code",
   "execution_count": null,
   "metadata": {},
   "outputs": [],
   "source": [
    "pickup_locations = ride_data[['pickup_latitude', 'pickup_longitude']]\n",
    "locations = pickup_locations.sample(frac=0.1).values"
   ]
  },
  {
   "cell_type": "code",
   "execution_count": null,
   "metadata": {},
   "outputs": [],
   "source": [
    "fig = gmaps.figure()\n",
    "fig.add_layer(gmaps.heatmap_layer(locations))\n",
    "fig"
   ]
  },
  {
   "cell_type": "code",
   "execution_count": 5,
   "metadata": {},
   "outputs": [
    {
     "data": {
      "text/plain": [
       "Index(['id', 'vendor_id', 'pickup_datetime', 'dropoff_datetime',\n",
       "       'passenger_count', 'pickup_longitude', 'pickup_latitude',\n",
       "       'dropoff_longitude', 'dropoff_latitude', 'store_and_fwd_flag',\n",
       "       'trip_duration'],\n",
       "      dtype='object')"
      ]
     },
     "execution_count": 5,
     "metadata": {},
     "output_type": "execute_result"
    }
   ],
   "source": [
    "ride_data.columns"
   ]
  },
  {
   "cell_type": "code",
   "execution_count": 6,
   "metadata": {},
   "outputs": [],
   "source": [
    "pickup_params = ['pickup_longitude', 'pickup_latitude']\n",
    "dropoff_params = ['dropoff_longitude', 'dropoff_latitude']\n",
    "\n",
    "carpool_columns = ['pickup_datetime', 'passenger_count'] + pickup_params + dropoff_params\n",
    "\n",
    "carpool_data = ride_data[carpool_columns].sample(frac=0.2, random_state=501)"
   ]
  },
  {
   "cell_type": "code",
   "execution_count": 7,
   "metadata": {},
   "outputs": [],
   "source": [
    "def round_datetime(tm, round_minutes = 30):\n",
    "    discard = datetime.timedelta(minutes=tm.minute % round_minutes,\n",
    "                             seconds=tm.second,\n",
    "                             microseconds=tm.microsecond)\n",
    "    tm -= discard\n",
    "    if discard >= datetime.timedelta(minutes=round_minutes/2):\n",
    "        tm += datetime.timedelta(minutes=round_minutes)\n",
    "    return tm"
   ]
  },
  {
   "cell_type": "code",
   "execution_count": 8,
   "metadata": {},
   "outputs": [],
   "source": [
    "def datetime_to_numeric(tm):\n",
    "    return(tm.hour * 60 + tm.minute)\n",
    "\n",
    "def datetime_to_time(tm):\n",
    "    return('{}:{}'.format(tm.hour, tm.minute))"
   ]
  },
  {
   "cell_type": "code",
   "execution_count": 9,
   "metadata": {},
   "outputs": [],
   "source": [
    "carpool_data['pickup_time_slot'] = carpool_data.pickup_datetime.apply(lambda x: datetime_to_time(round_datetime(x)))"
   ]
  },
  {
   "cell_type": "code",
   "execution_count": 10,
   "metadata": {},
   "outputs": [
    {
     "data": {
      "text/html": [
       "<div>\n",
       "<style scoped>\n",
       "    .dataframe tbody tr th:only-of-type {\n",
       "        vertical-align: middle;\n",
       "    }\n",
       "\n",
       "    .dataframe tbody tr th {\n",
       "        vertical-align: top;\n",
       "    }\n",
       "\n",
       "    .dataframe thead th {\n",
       "        text-align: right;\n",
       "    }\n",
       "</style>\n",
       "<table border=\"1\" class=\"dataframe\">\n",
       "  <thead>\n",
       "    <tr style=\"text-align: right;\">\n",
       "      <th></th>\n",
       "      <th>pickup_datetime</th>\n",
       "      <th>passenger_count</th>\n",
       "      <th>pickup_longitude</th>\n",
       "      <th>pickup_latitude</th>\n",
       "      <th>dropoff_longitude</th>\n",
       "      <th>dropoff_latitude</th>\n",
       "      <th>pickup_time_slot</th>\n",
       "    </tr>\n",
       "  </thead>\n",
       "  <tbody>\n",
       "    <tr>\n",
       "      <th>1415246</th>\n",
       "      <td>2016-05-12 14:26:46</td>\n",
       "      <td>1</td>\n",
       "      <td>-73.966080</td>\n",
       "      <td>40.773750</td>\n",
       "      <td>-73.950027</td>\n",
       "      <td>40.775951</td>\n",
       "      <td>14:30</td>\n",
       "    </tr>\n",
       "    <tr>\n",
       "      <th>682465</th>\n",
       "      <td>2016-05-18 19:16:34</td>\n",
       "      <td>1</td>\n",
       "      <td>-73.977455</td>\n",
       "      <td>40.750675</td>\n",
       "      <td>-73.992477</td>\n",
       "      <td>40.737156</td>\n",
       "      <td>19:30</td>\n",
       "    </tr>\n",
       "    <tr>\n",
       "      <th>1058558</th>\n",
       "      <td>2016-06-07 17:53:46</td>\n",
       "      <td>3</td>\n",
       "      <td>-73.782356</td>\n",
       "      <td>40.644520</td>\n",
       "      <td>-73.907188</td>\n",
       "      <td>40.726410</td>\n",
       "      <td>18:0</td>\n",
       "    </tr>\n",
       "    <tr>\n",
       "      <th>675162</th>\n",
       "      <td>2016-01-05 23:40:03</td>\n",
       "      <td>1</td>\n",
       "      <td>-73.998314</td>\n",
       "      <td>40.760845</td>\n",
       "      <td>-74.003487</td>\n",
       "      <td>40.740101</td>\n",
       "      <td>23:30</td>\n",
       "    </tr>\n",
       "    <tr>\n",
       "      <th>1325438</th>\n",
       "      <td>2016-06-12 08:30:08</td>\n",
       "      <td>1</td>\n",
       "      <td>-73.975189</td>\n",
       "      <td>40.741604</td>\n",
       "      <td>-73.971245</td>\n",
       "      <td>40.764248</td>\n",
       "      <td>8:30</td>\n",
       "    </tr>\n",
       "  </tbody>\n",
       "</table>\n",
       "</div>"
      ],
      "text/plain": [
       "            pickup_datetime  passenger_count  pickup_longitude  \\\n",
       "1415246 2016-05-12 14:26:46                1        -73.966080   \n",
       "682465  2016-05-18 19:16:34                1        -73.977455   \n",
       "1058558 2016-06-07 17:53:46                3        -73.782356   \n",
       "675162  2016-01-05 23:40:03                1        -73.998314   \n",
       "1325438 2016-06-12 08:30:08                1        -73.975189   \n",
       "\n",
       "         pickup_latitude  dropoff_longitude  dropoff_latitude pickup_time_slot  \n",
       "1415246        40.773750         -73.950027         40.775951            14:30  \n",
       "682465         40.750675         -73.992477         40.737156            19:30  \n",
       "1058558        40.644520         -73.907188         40.726410             18:0  \n",
       "675162         40.760845         -74.003487         40.740101            23:30  \n",
       "1325438        40.741604         -73.971245         40.764248             8:30  "
      ]
     },
     "execution_count": 10,
     "metadata": {},
     "output_type": "execute_result"
    }
   ],
   "source": [
    "carpool_data.head()"
   ]
  },
  {
   "cell_type": "code",
   "execution_count": 11,
   "metadata": {},
   "outputs": [
    {
     "data": {
      "text/plain": [
       "[('19:0', 9210),\n",
       " ('19:30', 9191),\n",
       " ('18:30', 9068),\n",
       " ('20:0', 8698),\n",
       " ('18:0', 8542),\n",
       " ('22:0', 8513),\n",
       " ('20:30', 8457),\n",
       " ('21:30', 8444),\n",
       " ('21:0', 8437),\n",
       " ('22:30', 7966)]"
      ]
     },
     "execution_count": 11,
     "metadata": {},
     "output_type": "execute_result"
    }
   ],
   "source": [
    "from collections import Counter\n",
    "Counter(carpool_data.pickup_time_slot).most_common(10)"
   ]
  },
  {
   "cell_type": "code",
   "execution_count": 12,
   "metadata": {},
   "outputs": [],
   "source": [
    "subset_slot_data = carpool_data[(carpool_data.pickup_time_slot == '19:0')]"
   ]
  },
  {
   "cell_type": "code",
   "execution_count": 13,
   "metadata": {},
   "outputs": [
    {
     "data": {
      "text/html": [
       "<div>\n",
       "<style scoped>\n",
       "    .dataframe tbody tr th:only-of-type {\n",
       "        vertical-align: middle;\n",
       "    }\n",
       "\n",
       "    .dataframe tbody tr th {\n",
       "        vertical-align: top;\n",
       "    }\n",
       "\n",
       "    .dataframe thead th {\n",
       "        text-align: right;\n",
       "    }\n",
       "</style>\n",
       "<table border=\"1\" class=\"dataframe\">\n",
       "  <thead>\n",
       "    <tr style=\"text-align: right;\">\n",
       "      <th></th>\n",
       "      <th>pickup_datetime</th>\n",
       "      <th>passenger_count</th>\n",
       "      <th>pickup_longitude</th>\n",
       "      <th>pickup_latitude</th>\n",
       "      <th>dropoff_longitude</th>\n",
       "      <th>dropoff_latitude</th>\n",
       "      <th>pickup_time_slot</th>\n",
       "    </tr>\n",
       "  </thead>\n",
       "  <tbody>\n",
       "    <tr>\n",
       "      <th>1393199</th>\n",
       "      <td>2016-05-30 18:50:21</td>\n",
       "      <td>1</td>\n",
       "      <td>-73.988747</td>\n",
       "      <td>40.748661</td>\n",
       "      <td>-73.981979</td>\n",
       "      <td>40.758080</td>\n",
       "      <td>19:0</td>\n",
       "    </tr>\n",
       "    <tr>\n",
       "      <th>1065839</th>\n",
       "      <td>2016-02-26 19:14:06</td>\n",
       "      <td>2</td>\n",
       "      <td>-74.000885</td>\n",
       "      <td>40.731819</td>\n",
       "      <td>-73.997604</td>\n",
       "      <td>40.721779</td>\n",
       "      <td>19:0</td>\n",
       "    </tr>\n",
       "    <tr>\n",
       "      <th>1041011</th>\n",
       "      <td>2016-05-22 19:06:06</td>\n",
       "      <td>2</td>\n",
       "      <td>-73.969025</td>\n",
       "      <td>40.761135</td>\n",
       "      <td>-73.987656</td>\n",
       "      <td>40.744198</td>\n",
       "      <td>19:0</td>\n",
       "    </tr>\n",
       "    <tr>\n",
       "      <th>159100</th>\n",
       "      <td>2016-02-02 19:03:52</td>\n",
       "      <td>1</td>\n",
       "      <td>-73.989578</td>\n",
       "      <td>40.739883</td>\n",
       "      <td>-73.961700</td>\n",
       "      <td>40.760109</td>\n",
       "      <td>19:0</td>\n",
       "    </tr>\n",
       "    <tr>\n",
       "      <th>520226</th>\n",
       "      <td>2016-03-31 18:58:00</td>\n",
       "      <td>1</td>\n",
       "      <td>-73.979691</td>\n",
       "      <td>40.761021</td>\n",
       "      <td>-73.961678</td>\n",
       "      <td>40.776760</td>\n",
       "      <td>19:0</td>\n",
       "    </tr>\n",
       "  </tbody>\n",
       "</table>\n",
       "</div>"
      ],
      "text/plain": [
       "            pickup_datetime  passenger_count  pickup_longitude  \\\n",
       "1393199 2016-05-30 18:50:21                1        -73.988747   \n",
       "1065839 2016-02-26 19:14:06                2        -74.000885   \n",
       "1041011 2016-05-22 19:06:06                2        -73.969025   \n",
       "159100  2016-02-02 19:03:52                1        -73.989578   \n",
       "520226  2016-03-31 18:58:00                1        -73.979691   \n",
       "\n",
       "         pickup_latitude  dropoff_longitude  dropoff_latitude pickup_time_slot  \n",
       "1393199        40.748661         -73.981979         40.758080             19:0  \n",
       "1065839        40.731819         -73.997604         40.721779             19:0  \n",
       "1041011        40.761135         -73.987656         40.744198             19:0  \n",
       "159100         40.739883         -73.961700         40.760109             19:0  \n",
       "520226         40.761021         -73.961678         40.776760             19:0  "
      ]
     },
     "execution_count": 13,
     "metadata": {},
     "output_type": "execute_result"
    }
   ],
   "source": [
    "subset_slot_data.head()"
   ]
  },
  {
   "cell_type": "code",
   "execution_count": 14,
   "metadata": {},
   "outputs": [],
   "source": [
    "from sklearn.cluster import DBSCAN"
   ]
  },
  {
   "cell_type": "code",
   "execution_count": 15,
   "metadata": {},
   "outputs": [],
   "source": [
    "X_pickup = subset_slot_data[pickup_params]\n",
    "dropoff_data = subset_slot_data[dropoff_params]"
   ]
  },
  {
   "cell_type": "code",
   "execution_count": 28,
   "metadata": {},
   "outputs": [],
   "source": [
    "# 1 unit distance in lat long corresponds to 111km in metric units\n",
    "# We keep 300 m as the maximum walking distance\n",
    "\n",
    "max_pickup_distance = 0.1 * 1/ 111\n",
    "max_dropoff_distance = 5 * max_pickup_distance\n",
    "\n",
    "\n",
    "pickup_dbscan = DBSCAN(\n",
    "    eps = max_pickup_distance,\n",
    "    min_samples = 2,\n",
    "    metric = 'l1'\n",
    ")\n",
    "dropoff_dbscan = DBSCAN(\n",
    "    eps = max_dropoff_distance,\n",
    "    min_samples = 2,\n",
    "    metric = 'l1'\n",
    ")"
   ]
  },
  {
   "cell_type": "code",
   "execution_count": 29,
   "metadata": {},
   "outputs": [],
   "source": [
    "subset_slot_data['pickup_cluster'] = pickup_dbscan.fit_predict(X_pickup)"
   ]
  },
  {
   "cell_type": "code",
   "execution_count": 30,
   "metadata": {},
   "outputs": [],
   "source": [
    "subset_slot_data['subset_cluster'] = -2"
   ]
  },
  {
   "cell_type": "code",
   "execution_count": 31,
   "metadata": {},
   "outputs": [],
   "source": [
    "for i in set(subset_slot_data.pickup_cluster):\n",
    "    indices = subset_slot_data.pickup_cluster == i\n",
    "    X_dropoff = dropoff_data[indices]\n",
    "    subset_slot_data.loc[indices, 'subset_cluster'] = dropoff_dbscan.fit_predict(X_dropoff)"
   ]
  },
  {
   "cell_type": "code",
   "execution_count": 35,
   "metadata": {},
   "outputs": [
    {
     "data": {
      "text/html": [
       "<div>\n",
       "<style scoped>\n",
       "    .dataframe tbody tr th:only-of-type {\n",
       "        vertical-align: middle;\n",
       "    }\n",
       "\n",
       "    .dataframe tbody tr th {\n",
       "        vertical-align: top;\n",
       "    }\n",
       "\n",
       "    .dataframe thead th {\n",
       "        text-align: right;\n",
       "    }\n",
       "</style>\n",
       "<table border=\"1\" class=\"dataframe\">\n",
       "  <thead>\n",
       "    <tr style=\"text-align: right;\">\n",
       "      <th></th>\n",
       "      <th>pickup_datetime</th>\n",
       "      <th>passenger_count</th>\n",
       "      <th>pickup_longitude</th>\n",
       "      <th>pickup_latitude</th>\n",
       "      <th>dropoff_longitude</th>\n",
       "      <th>dropoff_latitude</th>\n",
       "      <th>pickup_time_slot</th>\n",
       "      <th>pickup_cluster</th>\n",
       "      <th>subset_cluster</th>\n",
       "    </tr>\n",
       "  </thead>\n",
       "  <tbody>\n",
       "    <tr>\n",
       "      <th>0</th>\n",
       "      <td>2016-05-30 18:50:21</td>\n",
       "      <td>1</td>\n",
       "      <td>-73.988747</td>\n",
       "      <td>40.748661</td>\n",
       "      <td>-73.981979</td>\n",
       "      <td>40.758080</td>\n",
       "      <td>19:0</td>\n",
       "      <td>0</td>\n",
       "      <td>0</td>\n",
       "    </tr>\n",
       "    <tr>\n",
       "      <th>1</th>\n",
       "      <td>2016-02-26 19:14:06</td>\n",
       "      <td>2</td>\n",
       "      <td>-74.000885</td>\n",
       "      <td>40.731819</td>\n",
       "      <td>-73.997604</td>\n",
       "      <td>40.721779</td>\n",
       "      <td>19:0</td>\n",
       "      <td>1</td>\n",
       "      <td>0</td>\n",
       "    </tr>\n",
       "    <tr>\n",
       "      <th>2</th>\n",
       "      <td>2016-05-22 19:06:06</td>\n",
       "      <td>2</td>\n",
       "      <td>-73.969025</td>\n",
       "      <td>40.761135</td>\n",
       "      <td>-73.987656</td>\n",
       "      <td>40.744198</td>\n",
       "      <td>19:0</td>\n",
       "      <td>0</td>\n",
       "      <td>0</td>\n",
       "    </tr>\n",
       "    <tr>\n",
       "      <th>3</th>\n",
       "      <td>2016-02-02 19:03:52</td>\n",
       "      <td>1</td>\n",
       "      <td>-73.989578</td>\n",
       "      <td>40.739883</td>\n",
       "      <td>-73.961700</td>\n",
       "      <td>40.760109</td>\n",
       "      <td>19:0</td>\n",
       "      <td>0</td>\n",
       "      <td>0</td>\n",
       "    </tr>\n",
       "    <tr>\n",
       "      <th>4</th>\n",
       "      <td>2016-03-31 18:58:00</td>\n",
       "      <td>1</td>\n",
       "      <td>-73.979691</td>\n",
       "      <td>40.761021</td>\n",
       "      <td>-73.961678</td>\n",
       "      <td>40.776760</td>\n",
       "      <td>19:0</td>\n",
       "      <td>0</td>\n",
       "      <td>0</td>\n",
       "    </tr>\n",
       "  </tbody>\n",
       "</table>\n",
       "</div>"
      ],
      "text/plain": [
       "      pickup_datetime  passenger_count  pickup_longitude  pickup_latitude  \\\n",
       "0 2016-05-30 18:50:21                1        -73.988747        40.748661   \n",
       "1 2016-02-26 19:14:06                2        -74.000885        40.731819   \n",
       "2 2016-05-22 19:06:06                2        -73.969025        40.761135   \n",
       "3 2016-02-02 19:03:52                1        -73.989578        40.739883   \n",
       "4 2016-03-31 18:58:00                1        -73.979691        40.761021   \n",
       "\n",
       "   dropoff_longitude  dropoff_latitude pickup_time_slot  pickup_cluster  \\\n",
       "0         -73.981979         40.758080             19:0               0   \n",
       "1         -73.997604         40.721779             19:0               1   \n",
       "2         -73.987656         40.744198             19:0               0   \n",
       "3         -73.961700         40.760109             19:0               0   \n",
       "4         -73.961678         40.776760             19:0               0   \n",
       "\n",
       "   subset_cluster  \n",
       "0               0  \n",
       "1               0  \n",
       "2               0  \n",
       "3               0  \n",
       "4               0  "
      ]
     },
     "execution_count": 35,
     "metadata": {},
     "output_type": "execute_result"
    }
   ],
   "source": [
    "subset_slot_data.head().reset_index(drop=True)"
   ]
  },
  {
   "cell_type": "code",
   "execution_count": 33,
   "metadata": {},
   "outputs": [
    {
     "data": {
      "text/plain": [
       "[((0, 0), 4231),\n",
       " ((15, 0), 488),\n",
       " ((-1, -1), 103),\n",
       " ((0, -1), 70),\n",
       " ((16, -1), 54),\n",
       " ((-1, 4), 50),\n",
       " ((46, -1), 49),\n",
       " ((34, 1), 48),\n",
       " ((15, -1), 45),\n",
       " ((34, 3), 42)]"
      ]
     },
     "execution_count": 33,
     "metadata": {},
     "output_type": "execute_result"
    }
   ],
   "source": [
    "Counter(zip(subset_slot_data.pickup_cluster, subset_slot_data.subset_cluster)).most_common(10)"
   ]
  },
  {
   "cell_type": "code",
   "execution_count": null,
   "metadata": {},
   "outputs": [],
   "source": []
  },
  {
   "cell_type": "code",
   "execution_count": null,
   "metadata": {},
   "outputs": [],
   "source": []
  },
  {
   "cell_type": "code",
   "execution_count": null,
   "metadata": {},
   "outputs": [],
   "source": []
  },
  {
   "cell_type": "code",
   "execution_count": null,
   "metadata": {},
   "outputs": [],
   "source": []
  }
 ],
 "metadata": {
  "kernelspec": {
   "display_name": "Python 3",
   "language": "python",
   "name": "python3"
  },
  "language_info": {
   "codemirror_mode": {
    "name": "ipython",
    "version": 3
   },
   "file_extension": ".py",
   "mimetype": "text/x-python",
   "name": "python",
   "nbconvert_exporter": "python",
   "pygments_lexer": "ipython3",
   "version": "3.7.0"
  }
 },
 "nbformat": 4,
 "nbformat_minor": 2
}
