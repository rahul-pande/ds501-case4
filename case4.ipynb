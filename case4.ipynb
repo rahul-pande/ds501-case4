{
 "cells": [
  {
   "cell_type": "code",
   "execution_count": 29,
   "metadata": {},
   "outputs": [],
   "source": [
    "import os\n",
    "import gmaps\n",
    "import gmaps.datasets\n",
    "import pandas as pd\n",
    "import seaborn as sns"
   ]
  },
  {
   "cell_type": "code",
   "execution_count": 106,
   "metadata": {},
   "outputs": [],
   "source": [
    "import warnings\n",
    "warnings.filterwarnings(action='ignore')"
   ]
  },
  {
   "cell_type": "code",
   "execution_count": 2,
   "metadata": {
    "scrolled": false
   },
   "outputs": [
    {
     "name": "stdout",
     "output_type": "stream",
     "text": [
      "Populating the interactive namespace from numpy and matplotlib\n"
     ]
    }
   ],
   "source": [
    "%pylab inline\n",
    "\n",
    "# See the https://jupyter-gmaps.readthedocs.io/en/latest/install.html for installation\n",
    "# set GOOGLE_API_KEY in your environment\n",
    "gmaps.configure(api_key=os.environ[\"GOOGLE_API_KEY\"])"
   ]
  },
  {
   "cell_type": "markdown",
   "metadata": {},
   "source": [
    "### Loading Data"
   ]
  },
  {
   "cell_type": "code",
   "execution_count": 3,
   "metadata": {},
   "outputs": [],
   "source": [
    "date_cols = ['pickup_datetime', 'dropoff_datetime',]\n",
    "ride_data = pd.read_csv('ride_data.csv', parse_dates=date_cols)"
   ]
  },
  {
   "cell_type": "code",
   "execution_count": 4,
   "metadata": {},
   "outputs": [],
   "source": [
    "pickup_locations = ride_data[['pickup_latitude', 'pickup_longitude']]\n",
    "locations = pickup_locations.sample(frac=0.1).values"
   ]
  },
  {
   "cell_type": "code",
   "execution_count": 5,
   "metadata": {},
   "outputs": [
    {
     "data": {
      "application/vnd.jupyter.widget-view+json": {
       "model_id": "48316480538741958894ee52cfe9a139",
       "version_major": 2,
       "version_minor": 0
      },
      "text/plain": [
       "Figure(layout=FigureLayout(height='420px'))"
      ]
     },
     "metadata": {},
     "output_type": "display_data"
    }
   ],
   "source": [
    "fig = gmaps.figure()\n",
    "fig.add_layer(gmaps.heatmap_layer(locations))\n",
    "fig"
   ]
  },
  {
   "cell_type": "code",
   "execution_count": 6,
   "metadata": {},
   "outputs": [
    {
     "data": {
      "text/plain": [
       "Index(['id', 'vendor_id', 'pickup_datetime', 'dropoff_datetime',\n",
       "       'passenger_count', 'pickup_longitude', 'pickup_latitude',\n",
       "       'dropoff_longitude', 'dropoff_latitude', 'store_and_fwd_flag',\n",
       "       'trip_duration'],\n",
       "      dtype='object')"
      ]
     },
     "execution_count": 6,
     "metadata": {},
     "output_type": "execute_result"
    }
   ],
   "source": [
    "ride_data.columns"
   ]
  },
  {
   "cell_type": "code",
   "execution_count": 88,
   "metadata": {},
   "outputs": [],
   "source": [
    "pickup_params = ['pickup_longitude', 'pickup_latitude']\n",
    "dropoff_params = ['dropoff_longitude', 'dropoff_latitude']\n",
    "\n",
    "carpool_columns = ['pickup_datetime'] + pickup_params + dropoff_params\n",
    "\n",
    "carpool_data = ride_data[carpool_columns].sample(frac=0.2)"
   ]
  },
  {
   "cell_type": "code",
   "execution_count": 89,
   "metadata": {},
   "outputs": [],
   "source": [
    "def round_datetime(tm, round_minutes = 30):\n",
    "    discard = datetime.timedelta(minutes=tm.minute % round_minutes,\n",
    "                             seconds=tm.second,\n",
    "                             microseconds=tm.microsecond)\n",
    "    tm -= discard\n",
    "    if discard >= datetime.timedelta(minutes=round_minutes/2):\n",
    "        tm += datetime.timedelta(minutes=round_minutes)\n",
    "    return tm"
   ]
  },
  {
   "cell_type": "code",
   "execution_count": 90,
   "metadata": {},
   "outputs": [],
   "source": [
    "def datetime_to_numeric(tm):\n",
    "    return(tm.hour * 60 + tm.minute)\n",
    "\n",
    "def datetime_to_time(tm):\n",
    "    return('{}:{}'.format(tm.hour, tm.minute))"
   ]
  },
  {
   "cell_type": "code",
   "execution_count": 91,
   "metadata": {},
   "outputs": [
    {
     "data": {
      "text/plain": [
       "'0:30'"
      ]
     },
     "execution_count": 91,
     "metadata": {},
     "output_type": "execute_result"
    }
   ],
   "source": [
    "datetime_to_time(check)"
   ]
  },
  {
   "cell_type": "code",
   "execution_count": 251,
   "metadata": {},
   "outputs": [],
   "source": [
    "carpool_data['pickup_time_slot'] = carpool_data.pickup_datetime.apply(lambda x: datetime_to_time(round_datetime(x)))"
   ]
  },
  {
   "cell_type": "code",
   "execution_count": 252,
   "metadata": {},
   "outputs": [
    {
     "data": {
      "text/html": [
       "<div>\n",
       "<style scoped>\n",
       "    .dataframe tbody tr th:only-of-type {\n",
       "        vertical-align: middle;\n",
       "    }\n",
       "\n",
       "    .dataframe tbody tr th {\n",
       "        vertical-align: top;\n",
       "    }\n",
       "\n",
       "    .dataframe thead th {\n",
       "        text-align: right;\n",
       "    }\n",
       "</style>\n",
       "<table border=\"1\" class=\"dataframe\">\n",
       "  <thead>\n",
       "    <tr style=\"text-align: right;\">\n",
       "      <th></th>\n",
       "      <th>pickup_datetime</th>\n",
       "      <th>pickup_longitude</th>\n",
       "      <th>pickup_latitude</th>\n",
       "      <th>dropoff_longitude</th>\n",
       "      <th>dropoff_latitude</th>\n",
       "      <th>pickup_time_slot</th>\n",
       "    </tr>\n",
       "  </thead>\n",
       "  <tbody>\n",
       "    <tr>\n",
       "      <th>707526</th>\n",
       "      <td>2016-04-22 22:19:21</td>\n",
       "      <td>-73.965027</td>\n",
       "      <td>40.755360</td>\n",
       "      <td>-73.959709</td>\n",
       "      <td>40.762520</td>\n",
       "      <td>22:30</td>\n",
       "    </tr>\n",
       "    <tr>\n",
       "      <th>1134827</th>\n",
       "      <td>2016-06-03 19:46:05</td>\n",
       "      <td>-73.975189</td>\n",
       "      <td>40.755211</td>\n",
       "      <td>-73.991371</td>\n",
       "      <td>40.724072</td>\n",
       "      <td>20:0</td>\n",
       "    </tr>\n",
       "    <tr>\n",
       "      <th>1260665</th>\n",
       "      <td>2016-04-29 07:18:36</td>\n",
       "      <td>-73.985161</td>\n",
       "      <td>40.741344</td>\n",
       "      <td>-73.969650</td>\n",
       "      <td>40.756863</td>\n",
       "      <td>7:30</td>\n",
       "    </tr>\n",
       "    <tr>\n",
       "      <th>888990</th>\n",
       "      <td>2016-04-08 07:34:03</td>\n",
       "      <td>-73.971130</td>\n",
       "      <td>40.755318</td>\n",
       "      <td>-73.981773</td>\n",
       "      <td>40.752205</td>\n",
       "      <td>7:30</td>\n",
       "    </tr>\n",
       "    <tr>\n",
       "      <th>506589</th>\n",
       "      <td>2016-02-08 12:48:23</td>\n",
       "      <td>-73.958130</td>\n",
       "      <td>40.760269</td>\n",
       "      <td>-73.954018</td>\n",
       "      <td>40.771240</td>\n",
       "      <td>13:0</td>\n",
       "    </tr>\n",
       "  </tbody>\n",
       "</table>\n",
       "</div>"
      ],
      "text/plain": [
       "            pickup_datetime  pickup_longitude  pickup_latitude  \\\n",
       "707526  2016-04-22 22:19:21        -73.965027        40.755360   \n",
       "1134827 2016-06-03 19:46:05        -73.975189        40.755211   \n",
       "1260665 2016-04-29 07:18:36        -73.985161        40.741344   \n",
       "888990  2016-04-08 07:34:03        -73.971130        40.755318   \n",
       "506589  2016-02-08 12:48:23        -73.958130        40.760269   \n",
       "\n",
       "         dropoff_longitude  dropoff_latitude pickup_time_slot  \n",
       "707526          -73.959709         40.762520            22:30  \n",
       "1134827         -73.991371         40.724072             20:0  \n",
       "1260665         -73.969650         40.756863             7:30  \n",
       "888990          -73.981773         40.752205             7:30  \n",
       "506589          -73.954018         40.771240             13:0  "
      ]
     },
     "execution_count": 252,
     "metadata": {},
     "output_type": "execute_result"
    }
   ],
   "source": [
    "carpool_data.head()"
   ]
  },
  {
   "cell_type": "code",
   "execution_count": 253,
   "metadata": {},
   "outputs": [
    {
     "data": {
      "text/plain": [
       "[('19:0', 9320),\n",
       " ('19:30', 9142),\n",
       " ('18:30', 9112),\n",
       " ('20:0', 8721),\n",
       " ('18:0', 8598),\n",
       " ('21:0', 8517),\n",
       " ('21:30', 8476),\n",
       " ('22:0', 8329),\n",
       " ('20:30', 8290),\n",
       " ('22:30', 8051)]"
      ]
     },
     "execution_count": 253,
     "metadata": {},
     "output_type": "execute_result"
    }
   ],
   "source": [
    "from collections import Counter\n",
    "Counter(carpool_data.pickup_time_slot).most_common(10)"
   ]
  },
  {
   "cell_type": "code",
   "execution_count": 254,
   "metadata": {},
   "outputs": [],
   "source": [
    "subset_slot_data = carpool_data[(carpool_data.pickup_time_slot == '19:0')]"
   ]
  },
  {
   "cell_type": "code",
   "execution_count": 255,
   "metadata": {},
   "outputs": [
    {
     "data": {
      "text/html": [
       "<div>\n",
       "<style scoped>\n",
       "    .dataframe tbody tr th:only-of-type {\n",
       "        vertical-align: middle;\n",
       "    }\n",
       "\n",
       "    .dataframe tbody tr th {\n",
       "        vertical-align: top;\n",
       "    }\n",
       "\n",
       "    .dataframe thead th {\n",
       "        text-align: right;\n",
       "    }\n",
       "</style>\n",
       "<table border=\"1\" class=\"dataframe\">\n",
       "  <thead>\n",
       "    <tr style=\"text-align: right;\">\n",
       "      <th></th>\n",
       "      <th>pickup_datetime</th>\n",
       "      <th>pickup_longitude</th>\n",
       "      <th>pickup_latitude</th>\n",
       "      <th>dropoff_longitude</th>\n",
       "      <th>dropoff_latitude</th>\n",
       "      <th>pickup_time_slot</th>\n",
       "    </tr>\n",
       "  </thead>\n",
       "  <tbody>\n",
       "    <tr>\n",
       "      <th>1128815</th>\n",
       "      <td>2016-02-19 19:13:17</td>\n",
       "      <td>-73.985123</td>\n",
       "      <td>40.756039</td>\n",
       "      <td>-73.995125</td>\n",
       "      <td>40.749931</td>\n",
       "      <td>19:0</td>\n",
       "    </tr>\n",
       "    <tr>\n",
       "      <th>559038</th>\n",
       "      <td>2016-05-24 19:09:20</td>\n",
       "      <td>-73.994041</td>\n",
       "      <td>40.741379</td>\n",
       "      <td>-74.000038</td>\n",
       "      <td>40.734802</td>\n",
       "      <td>19:0</td>\n",
       "    </tr>\n",
       "    <tr>\n",
       "      <th>470217</th>\n",
       "      <td>2016-02-07 19:03:58</td>\n",
       "      <td>-73.959328</td>\n",
       "      <td>40.774380</td>\n",
       "      <td>-73.967018</td>\n",
       "      <td>40.766949</td>\n",
       "      <td>19:0</td>\n",
       "    </tr>\n",
       "    <tr>\n",
       "      <th>348960</th>\n",
       "      <td>2016-03-23 19:09:44</td>\n",
       "      <td>-73.985847</td>\n",
       "      <td>40.740917</td>\n",
       "      <td>-73.983757</td>\n",
       "      <td>40.758827</td>\n",
       "      <td>19:0</td>\n",
       "    </tr>\n",
       "    <tr>\n",
       "      <th>1378570</th>\n",
       "      <td>2016-04-05 18:53:12</td>\n",
       "      <td>-73.872627</td>\n",
       "      <td>40.774303</td>\n",
       "      <td>-73.982544</td>\n",
       "      <td>40.755436</td>\n",
       "      <td>19:0</td>\n",
       "    </tr>\n",
       "  </tbody>\n",
       "</table>\n",
       "</div>"
      ],
      "text/plain": [
       "            pickup_datetime  pickup_longitude  pickup_latitude  \\\n",
       "1128815 2016-02-19 19:13:17        -73.985123        40.756039   \n",
       "559038  2016-05-24 19:09:20        -73.994041        40.741379   \n",
       "470217  2016-02-07 19:03:58        -73.959328        40.774380   \n",
       "348960  2016-03-23 19:09:44        -73.985847        40.740917   \n",
       "1378570 2016-04-05 18:53:12        -73.872627        40.774303   \n",
       "\n",
       "         dropoff_longitude  dropoff_latitude pickup_time_slot  \n",
       "1128815         -73.995125         40.749931             19:0  \n",
       "559038          -74.000038         40.734802             19:0  \n",
       "470217          -73.967018         40.766949             19:0  \n",
       "348960          -73.983757         40.758827             19:0  \n",
       "1378570         -73.982544         40.755436             19:0  "
      ]
     },
     "execution_count": 255,
     "metadata": {},
     "output_type": "execute_result"
    }
   ],
   "source": [
    "subset_slot_data.head()"
   ]
  },
  {
   "cell_type": "code",
   "execution_count": 256,
   "metadata": {},
   "outputs": [],
   "source": [
    "from sklearn.cluster import DBSCAN"
   ]
  },
  {
   "cell_type": "code",
   "execution_count": 257,
   "metadata": {},
   "outputs": [],
   "source": [
    "X_pickup = subset_slot_data[pickup_params]\n",
    "X_dropoff = subset_slot_data[dropoff_params]"
   ]
  },
  {
   "cell_type": "code",
   "execution_count": 258,
   "metadata": {},
   "outputs": [],
   "source": [
    "# 1 unit distance in lat long corresponds to 111km in metric units\n",
    "# We keep 300 m as the maximum walking distance\n",
    "\n",
    "max_pickup_distance = 0.2 * 1/ 111\n",
    "max_dropoff_distance = 5 * max_pickup_distance\n",
    "\n",
    "\n",
    "pickup_dbscan = DBSCAN(\n",
    "    eps = max_pickup_distance,\n",
    "    min_samples = 2,\n",
    "    metric = 'l1'\n",
    ")\n",
    "dropoff_dbscan = DBSCAN(\n",
    "    eps = max_dropoff_distance,\n",
    "    min_samples = 2,\n",
    "    metric = 'l1'\n",
    ")"
   ]
  },
  {
   "cell_type": "code",
   "execution_count": 259,
   "metadata": {},
   "outputs": [],
   "source": [
    "subset_slot_data['pickup_cluster'] = pickup_dbscan.fit(X_pickup).labels_"
   ]
  },
  {
   "cell_type": "code",
   "execution_count": 260,
   "metadata": {},
   "outputs": [],
   "source": [
    "subset_slot_data.sort_values('pickup_cluster', inplace=True)"
   ]
  },
  {
   "cell_type": "code",
   "execution_count": 261,
   "metadata": {},
   "outputs": [],
   "source": [
    "def get_dropoff_cluster(group):\n",
    "    X_dropoff_inter = group[dropoff_params]\n",
    "    return(dropoff_dbscan.fit(X_dropoff_inter).labels_)\n",
    "    "
   ]
  },
  {
   "cell_type": "code",
   "execution_count": 294,
   "metadata": {},
   "outputs": [],
   "source": [
    "sub_clusters = subset_slot_data.groupby('pickup_cluster').apply(lambda x: pd.Series(get_dropoff_cluster(x)))"
   ]
  },
  {
   "cell_type": "code",
   "execution_count": 290,
   "metadata": {},
   "outputs": [
    {
     "data": {
      "text/plain": [
       "pickup_cluster   \n",
       "-1              0   -1\n",
       "                1   -1\n",
       "                2   -1\n",
       "                3    0\n",
       "                4    1\n",
       "dtype: int64"
      ]
     },
     "execution_count": 290,
     "metadata": {},
     "output_type": "execute_result"
    }
   ],
   "source": [
    "sub_clusters.head()"
   ]
  },
  {
   "cell_type": "code",
   "execution_count": 295,
   "metadata": {},
   "outputs": [
    {
     "data": {
      "text/plain": [
       "array([-1, -1, -1,  0,  1, -1,  2, -1,  3,  4])"
      ]
     },
     "execution_count": 295,
     "metadata": {},
     "output_type": "execute_result"
    }
   ],
   "source": [
    "sub_clusters.values[:10]"
   ]
  },
  {
   "cell_type": "code",
   "execution_count": 288,
   "metadata": {},
   "outputs": [],
   "source": [
    "subset_slot_data['subset_cluster'] = sub_clusters.values"
   ]
  },
  {
   "cell_type": "code",
   "execution_count": 279,
   "metadata": {},
   "outputs": [
    {
     "data": {
      "text/html": [
       "<div>\n",
       "<style scoped>\n",
       "    .dataframe tbody tr th:only-of-type {\n",
       "        vertical-align: middle;\n",
       "    }\n",
       "\n",
       "    .dataframe tbody tr th {\n",
       "        vertical-align: top;\n",
       "    }\n",
       "\n",
       "    .dataframe thead th {\n",
       "        text-align: right;\n",
       "    }\n",
       "</style>\n",
       "<table border=\"1\" class=\"dataframe\">\n",
       "  <thead>\n",
       "    <tr style=\"text-align: right;\">\n",
       "      <th></th>\n",
       "      <th>pickup_datetime</th>\n",
       "      <th>pickup_longitude</th>\n",
       "      <th>pickup_latitude</th>\n",
       "      <th>dropoff_longitude</th>\n",
       "      <th>dropoff_latitude</th>\n",
       "      <th>pickup_time_slot</th>\n",
       "      <th>pickup_cluster</th>\n",
       "      <th>subset_cluster</th>\n",
       "    </tr>\n",
       "  </thead>\n",
       "  <tbody>\n",
       "    <tr>\n",
       "      <th>6142</th>\n",
       "      <td>2016-06-17 19:01:34</td>\n",
       "      <td>-74.000710</td>\n",
       "      <td>40.661373</td>\n",
       "      <td>-74.000710</td>\n",
       "      <td>40.661373</td>\n",
       "      <td>19:0</td>\n",
       "      <td>-1</td>\n",
       "      <td>-1</td>\n",
       "    </tr>\n",
       "    <tr>\n",
       "      <th>1173604</th>\n",
       "      <td>2016-02-20 19:12:33</td>\n",
       "      <td>-73.979591</td>\n",
       "      <td>40.722977</td>\n",
       "      <td>-73.898109</td>\n",
       "      <td>40.862305</td>\n",
       "      <td>19:0</td>\n",
       "      <td>-1</td>\n",
       "      <td>-1</td>\n",
       "    </tr>\n",
       "    <tr>\n",
       "      <th>1281813</th>\n",
       "      <td>2016-05-03 19:09:30</td>\n",
       "      <td>-73.978996</td>\n",
       "      <td>40.691578</td>\n",
       "      <td>-73.968246</td>\n",
       "      <td>40.695072</td>\n",
       "      <td>19:0</td>\n",
       "      <td>-1</td>\n",
       "      <td>-1</td>\n",
       "    </tr>\n",
       "    <tr>\n",
       "      <th>39233</th>\n",
       "      <td>2016-01-14 19:14:53</td>\n",
       "      <td>-73.969276</td>\n",
       "      <td>40.689598</td>\n",
       "      <td>-73.954712</td>\n",
       "      <td>40.745831</td>\n",
       "      <td>19:0</td>\n",
       "      <td>-1</td>\n",
       "      <td>0</td>\n",
       "    </tr>\n",
       "    <tr>\n",
       "      <th>201219</th>\n",
       "      <td>2016-03-26 19:10:13</td>\n",
       "      <td>-73.973381</td>\n",
       "      <td>40.738701</td>\n",
       "      <td>-73.996765</td>\n",
       "      <td>40.731731</td>\n",
       "      <td>19:0</td>\n",
       "      <td>-1</td>\n",
       "      <td>1</td>\n",
       "    </tr>\n",
       "  </tbody>\n",
       "</table>\n",
       "</div>"
      ],
      "text/plain": [
       "            pickup_datetime  pickup_longitude  pickup_latitude  \\\n",
       "6142    2016-06-17 19:01:34        -74.000710        40.661373   \n",
       "1173604 2016-02-20 19:12:33        -73.979591        40.722977   \n",
       "1281813 2016-05-03 19:09:30        -73.978996        40.691578   \n",
       "39233   2016-01-14 19:14:53        -73.969276        40.689598   \n",
       "201219  2016-03-26 19:10:13        -73.973381        40.738701   \n",
       "\n",
       "         dropoff_longitude  dropoff_latitude pickup_time_slot  pickup_cluster  \\\n",
       "6142            -74.000710         40.661373             19:0              -1   \n",
       "1173604         -73.898109         40.862305             19:0              -1   \n",
       "1281813         -73.968246         40.695072             19:0              -1   \n",
       "39233           -73.954712         40.745831             19:0              -1   \n",
       "201219          -73.996765         40.731731             19:0              -1   \n",
       "\n",
       "         subset_cluster  \n",
       "6142                 -1  \n",
       "1173604              -1  \n",
       "1281813              -1  \n",
       "39233                 0  \n",
       "201219                1  "
      ]
     },
     "execution_count": 279,
     "metadata": {},
     "output_type": "execute_result"
    }
   ],
   "source": [
    "subset_slot_data.head()"
   ]
  },
  {
   "cell_type": "code",
   "execution_count": 281,
   "metadata": {},
   "outputs": [
    {
     "data": {
      "text/plain": [
       "[((0, 0), 7937),\n",
       " ((0, 2), 138),\n",
       " ((0, 6), 108),\n",
       " ((0, 3), 63),\n",
       " ((0, -1), 53),\n",
       " ((-1, -1), 47),\n",
       " ((1, 3), 47),\n",
       " ((0, 4), 45),\n",
       " ((1, -1), 34),\n",
       " ((2, 1), 33)]"
      ]
     },
     "execution_count": 281,
     "metadata": {},
     "output_type": "execute_result"
    }
   ],
   "source": [
    "Counter(zip(subset_slot_data.pickup_cluster, subset_slot_data.subset_cluster)).most_common(10)"
   ]
  },
  {
   "cell_type": "code",
   "execution_count": 250,
   "metadata": {},
   "outputs": [
    {
     "data": {
      "text/plain": [
       "(9320, 8)"
      ]
     },
     "execution_count": 250,
     "metadata": {},
     "output_type": "execute_result"
    }
   ],
   "source": [
    "subset_slot_data.shape"
   ]
  },
  {
   "cell_type": "code",
   "execution_count": null,
   "metadata": {},
   "outputs": [],
   "source": [
    "dropoff_dbscan."
   ]
  },
  {
   "cell_type": "code",
   "execution_count": null,
   "metadata": {},
   "outputs": [],
   "source": [
    "\n",
    "sub_clusters.head()"
   ]
  },
  {
   "cell_type": "code",
   "execution_count": 153,
   "metadata": {},
   "outputs": [
    {
     "data": {
      "text/plain": [
       "(71342356, 9)"
      ]
     },
     "execution_count": 153,
     "metadata": {},
     "output_type": "execute_result"
    }
   ],
   "source": [
    "pd.merge(subset_slot_data, sub_clusters, on='pickup_cluster', ).shape"
   ]
  },
  {
   "cell_type": "code",
   "execution_count": 154,
   "metadata": {},
   "outputs": [
    {
     "data": {
      "text/plain": [
       "(9320, 8)"
      ]
     },
     "execution_count": 154,
     "metadata": {},
     "output_type": "execute_result"
    }
   ],
   "source": [
    "subset_slot_data.shape"
   ]
  },
  {
   "cell_type": "code",
   "execution_count": 104,
   "metadata": {},
   "outputs": [
    {
     "data": {
      "text/plain": [
       "9345"
      ]
     },
     "execution_count": 104,
     "metadata": {},
     "output_type": "execute_result"
    }
   ],
   "source": [
    "len(cluster_fit.labels_)"
   ]
  },
  {
   "cell_type": "code",
   "execution_count": 83,
   "metadata": {},
   "outputs": [
    {
     "data": {
      "text/plain": [
       "[(0, 3939),\n",
       " (-1, 440),\n",
       " (10, 307),\n",
       " (17, 280),\n",
       " (24, 236),\n",
       " (2, 144),\n",
       " (8, 125),\n",
       " (23, 107),\n",
       " (57, 107),\n",
       " (20, 102)]"
      ]
     },
     "execution_count": 83,
     "metadata": {},
     "output_type": "execute_result"
    }
   ],
   "source": [
    "Counter(cluster_fit.labels_).most_common(10)"
   ]
  },
  {
   "cell_type": "code",
   "execution_count": 84,
   "metadata": {},
   "outputs": [
    {
     "data": {
      "text/plain": [
       "9345"
      ]
     },
     "execution_count": 84,
     "metadata": {},
     "output_type": "execute_result"
    }
   ],
   "source": [
    "len(cluster_fit.labels_)"
   ]
  },
  {
   "cell_type": "code",
   "execution_count": null,
   "metadata": {},
   "outputs": [],
   "source": []
  }
 ],
 "metadata": {
  "kernelspec": {
   "display_name": "Python 3",
   "language": "python",
   "name": "python3"
  },
  "language_info": {
   "codemirror_mode": {
    "name": "ipython",
    "version": 3
   },
   "file_extension": ".py",
   "mimetype": "text/x-python",
   "name": "python",
   "nbconvert_exporter": "python",
   "pygments_lexer": "ipython3",
   "version": "3.7.0"
  }
 },
 "nbformat": 4,
 "nbformat_minor": 2
}
